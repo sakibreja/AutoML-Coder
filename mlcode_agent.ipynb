{
 "cells": [
  {
   "cell_type": "code",
   "execution_count": null,
   "metadata": {},
   "outputs": [],
   "source": [
    "import os\n",
    "import litellm\n",
    "import gradio as gr\n",
    "from smolagents import CodeAgent, DuckDuckGoSearchTool, LiteLLMModel\n",
    "import google.generativeai as genai"
   ]
  },
  {
   "cell_type": "code",
   "execution_count": null,
   "metadata": {},
   "outputs": [],
   "source": [
    "# Enable debugging (optional, useful for troubleshooting)\n",
    "litellm._turn_on_debug()"
   ]
  },
  {
   "cell_type": "code",
   "execution_count": null,
   "metadata": {},
   "outputs": [],
   "source": [
    "# Set Google Gemini API Key Securely\n",
    "os.environ[\"GOOGLE_API_KEY\"] = \"enter your api key \"\n",
    "genai.configure(api_key=os.getenv(\"GOOGLE_API_KEY\"))"
   ]
  },
  {
   "cell_type": "code",
   "execution_count": null,
   "metadata": {},
   "outputs": [],
   "source": [
    "# Initialize Gemini Model for SmolAgents\n",
    "model = LiteLLMModel(\n",
    "    model_id=\"gemini/gemini-1.5-flash\",\n",
    "    api_key=os.getenv(\"GOOGLE_API_KEY\")\n",
    ")"
   ]
  },
  {
   "cell_type": "code",
   "execution_count": null,
   "metadata": {},
   "outputs": [],
   "source": [
    "# Define the ML Code Generation Agent\n",
    "ml_code_agent = CodeAgent(\n",
    "    tools=[DuckDuckGoSearchTool()],  # Web search for ML references\n",
    "    additional_authorized_imports=['pandas', 'numpy', 'sklearn', 'json'],\n",
    "    model=model\n",
    ")"
   ]
  },
  {
   "cell_type": "code",
   "execution_count": null,
   "metadata": {},
   "outputs": [],
   "source": [
    "# Function to Generate ML Code Step-by-Step\n",
    "def generate_ml_code(prompt):\n",
    "    full_prompt = \"\"\"\n",
    "    You are an AI assistant helping with machine learning code. \n",
    "    Complete ALL 7 steps in a structured manner.\n",
    "\n",
    "    1. **Load the Diabetes dataset** using sklearn.\n",
    "    2. **Split the data** (75% train / 25% test).\n",
    "    3. **Train a linear regression model**.\n",
    "    4. **Find the best 3-feature combination** (lowest RMSE).\n",
    "    5. **Apply feature engineering** if needed.\n",
    "    6. **List the top 5 models based on RMSE**.\n",
    "    7. **Output the results in a structured table**.\n",
    "\n",
    "    Ensure that you return:\n",
    "    - The Python code for each step.\n",
    "    - The RMSE values of the models.\n",
    "    - The final selected feature set.\n",
    "    \"\"\"\n",
    "    try:\n",
    "        response = ml_code_agent.run(full_prompt)\n",
    "        return response\n",
    "    except Exception as e:\n",
    "        return f\"Error: {str(e)}\""
   ]
  },
  {
   "cell_type": "code",
   "execution_count": null,
   "metadata": {},
   "outputs": [],
   "source": [
    "# Gradio UI for User Interaction\n",
    "iface = gr.Interface(\n",
    "    fn=generate_ml_code,\n",
    "    inputs=\"text\",\n",
    "    outputs=\"text\",\n",
    "    title=\"ML Code Generator (Gemini 1.5 Flash)\",\n",
    "    description=\"Enter a Machine Learning coding task, and the AI will generate Python code using Gemini 1.5 Flash.\"\n",
    ")"
   ]
  },
  {
   "cell_type": "code",
   "execution_count": null,
   "metadata": {},
   "outputs": [],
   "source": [
    "# Launch Gradio App\n",
    "iface.launch()"
   ]
  }
 ],
 "metadata": {
  "kernelspec": {
   "display_name": "base",
   "language": "python",
   "name": "python3"
  },
  "language_info": {
   "codemirror_mode": {
    "name": "ipython",
    "version": 3
   },
   "file_extension": ".py",
   "mimetype": "text/x-python",
   "name": "python",
   "nbconvert_exporter": "python",
   "pygments_lexer": "ipython3",
   "version": "3.11.7"
  }
 },
 "nbformat": 4,
 "nbformat_minor": 2
}
